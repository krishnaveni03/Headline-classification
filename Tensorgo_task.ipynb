{
  "nbformat": 4,
  "nbformat_minor": 0,
  "metadata": {
    "colab": {
      "provenance": [],
      "gpuType": "T4"
    },
    "kernelspec": {
      "name": "python3",
      "display_name": "Python 3"
    },
    "language_info": {
      "name": "python"
    },
    "accelerator": "GPU"
  },
  "cells": [
    {
      "cell_type": "code",
      "execution_count": 7,
      "metadata": {
        "id": "vuyoHgdWlbEm"
      },
      "outputs": [],
      "source": [
        "import pandas as pd\n",
        "from sklearn.model_selection import train_test_split\n",
        "from transformers import DistilBertTokenizer, DistilBertForSequenceClassification, Trainer, TrainingArguments\n",
        "from transformers import DataCollatorWithPadding\n",
        "from datasets import Dataset\n",
        "from sklearn.metrics import accuracy_score\n",
        "import torch\n",
        "import matplotlib.pyplot as plt"
      ]
    },
    {
      "cell_type": "code",
      "source": [
        "# from google.colab import drive\n",
        "# drive.mount('/content/drive')"
      ],
      "metadata": {
        "colab": {
          "base_uri": "https://localhost:8080/"
        },
        "id": "N4Q2bCRZlmOv",
        "outputId": "68d4bbb6-9656-48fe-c73d-ce330030409b"
      },
      "execution_count": 2,
      "outputs": [
        {
          "output_type": "stream",
          "name": "stdout",
          "text": [
            "Mounted at /content/drive\n"
          ]
        }
      ]
    },
    {
      "cell_type": "code",
      "source": [
        "# Load the dataset\n",
        "df = pd.read_csv('/content/drive/MyDrive/task/bbc_data.csv')"
      ],
      "metadata": {
        "id": "xqkdUo5glt1n"
      },
      "execution_count": 8,
      "outputs": []
    },
    {
      "cell_type": "code",
      "source": [
        "df['labels'].unique()"
      ],
      "metadata": {
        "colab": {
          "base_uri": "https://localhost:8080/"
        },
        "id": "w3lMCZrgl59_",
        "outputId": "9da39d1a-5dea-45bd-c295-fa48ad636bfb"
      },
      "execution_count": 27,
      "outputs": [
        {
          "output_type": "execute_result",
          "data": {
            "text/plain": [
              "array(['entertainment', 'business', 'sport', 'politics', 'tech'],\n",
              "      dtype=object)"
            ]
          },
          "metadata": {},
          "execution_count": 27
        }
      ]
    },
    {
      "cell_type": "code",
      "source": [
        "# Preprocess the data\n",
        "df['labels'] = df['labels'].astype('category').cat.codes  # Convert labels to numeric values\n",
        "X = df['data'].tolist()\n",
        "y = df['labels'].tolist()"
      ],
      "metadata": {
        "id": "I-VwUYzdl1J_"
      },
      "execution_count": 5,
      "outputs": []
    },
    {
      "cell_type": "code",
      "source": [
        "# Split the dataset\n",
        "X_train, X_test, y_train, y_test = train_test_split(X, y, test_size=0.2, random_state=42)"
      ],
      "metadata": {
        "id": "43Tk37Nfl28T"
      },
      "execution_count": 6,
      "outputs": []
    },
    {
      "cell_type": "code",
      "source": [
        "# Load the tokenizer and model\n",
        "tokenizer = DistilBertTokenizer.from_pretrained('distilbert-base-uncased')\n",
        "model = DistilBertForSequenceClassification.from_pretrained('distilbert-base-uncased', num_labels=5)"
      ],
      "metadata": {
        "colab": {
          "base_uri": "https://localhost:8080/"
        },
        "id": "EDYz9iMVmEiW",
        "outputId": "dac2d82b-3ba0-4259-b9ee-8114cc253433"
      },
      "execution_count": 10,
      "outputs": [
        {
          "output_type": "stream",
          "name": "stderr",
          "text": [
            "/usr/local/lib/python3.10/dist-packages/huggingface_hub/utils/_token.py:89: UserWarning: \n",
            "The secret `HF_TOKEN` does not exist in your Colab secrets.\n",
            "To authenticate with the Hugging Face Hub, create a token in your settings tab (https://huggingface.co/settings/tokens), set it as secret in your Google Colab and restart your session.\n",
            "You will be able to reuse this secret in all of your notebooks.\n",
            "Please note that authentication is recommended but still optional to access public models or datasets.\n",
            "  warnings.warn(\n",
            "/usr/local/lib/python3.10/dist-packages/transformers/tokenization_utils_base.py:1601: FutureWarning: `clean_up_tokenization_spaces` was not set. It will be set to `True` by default. This behavior will be depracted in transformers v4.45, and will be then set to `False` by default. For more details check this issue: https://github.com/huggingface/transformers/issues/31884\n",
            "  warnings.warn(\n",
            "Some weights of DistilBertForSequenceClassification were not initialized from the model checkpoint at distilbert-base-uncased and are newly initialized: ['classifier.bias', 'classifier.weight', 'pre_classifier.bias', 'pre_classifier.weight']\n",
            "You should probably TRAIN this model on a down-stream task to be able to use it for predictions and inference.\n"
          ]
        }
      ]
    },
    {
      "cell_type": "code",
      "source": [
        "# Tokenize the data\n",
        "def tokenize_function(examples):\n",
        "    return tokenizer(examples['text'], padding='max_length', truncation=True, max_length=128)"
      ],
      "metadata": {
        "id": "aEzlEnbio-F9"
      },
      "execution_count": 11,
      "outputs": []
    },
    {
      "cell_type": "code",
      "source": [
        "# Prepare datasets\n",
        "train_encodings = tokenizer(X_train, padding=True, truncation=True, max_length=128, return_tensors='pt')\n",
        "test_encodings = tokenizer(X_test, padding=True, truncation=True, max_length=128, return_tensors='pt')"
      ],
      "metadata": {
        "id": "Vdc1Bpzepeg9"
      },
      "execution_count": 12,
      "outputs": []
    },
    {
      "cell_type": "code",
      "source": [
        "train_dataset = Dataset.from_dict({\n",
        "    'input_ids': train_encodings['input_ids'].numpy(),\n",
        "    'attention_mask': train_encodings['attention_mask'].numpy(),\n",
        "    'labels': y_train\n",
        "})\n",
        "\n",
        "test_dataset = Dataset.from_dict({\n",
        "    'input_ids': test_encodings['input_ids'].numpy(),\n",
        "    'attention_mask': test_encodings['attention_mask'].numpy(),\n",
        "    'labels': y_test\n",
        "})"
      ],
      "metadata": {
        "id": "KhmasOdAm7ms"
      },
      "execution_count": 13,
      "outputs": []
    },
    {
      "cell_type": "code",
      "source": [
        "data_collator = DataCollatorWithPadding(tokenizer=tokenizer)"
      ],
      "metadata": {
        "id": "ln_7h-uum6j9"
      },
      "execution_count": 14,
      "outputs": []
    },
    {
      "cell_type": "code",
      "source": [
        "# Training arguments\n",
        "training_args = TrainingArguments(\n",
        "    output_dir='./results',\n",
        "    num_train_epochs=3,\n",
        "    per_device_train_batch_size=8,\n",
        "    per_device_eval_batch_size=8,\n",
        "    warmup_steps=500,\n",
        "    weight_decay=0.01,\n",
        "    logging_dir='./logs',\n",
        "    evaluation_strategy=\"epoch\"  # Evaluate after each epoch\n",
        ")\n"
      ],
      "metadata": {
        "colab": {
          "base_uri": "https://localhost:8080/"
        },
        "id": "7Wjlr_6JmGpF",
        "outputId": "ad9331ff-1ab8-4c7e-ff48-e8ed6977ecd4"
      },
      "execution_count": 15,
      "outputs": [
        {
          "output_type": "stream",
          "name": "stderr",
          "text": [
            "/usr/local/lib/python3.10/dist-packages/transformers/training_args.py:1525: FutureWarning: `evaluation_strategy` is deprecated and will be removed in version 4.46 of 🤗 Transformers. Use `eval_strategy` instead\n",
            "  warnings.warn(\n"
          ]
        }
      ]
    },
    {
      "cell_type": "code",
      "source": [
        "# Trainer\n",
        "trainer = Trainer(\n",
        "    model=model,\n",
        "    args=training_args,\n",
        "    train_dataset=train_dataset,\n",
        "    eval_dataset=test_dataset,\n",
        "    data_collator=data_collator,\n",
        "    compute_metrics=lambda p: {'accuracy': accuracy_score(p.label_ids, p.predictions.argmax(-1))}\n",
        ")\n"
      ],
      "metadata": {
        "id": "HAdOb4YemyRh"
      },
      "execution_count": 16,
      "outputs": []
    },
    {
      "cell_type": "code",
      "source": [
        "def evaluate_model():\n",
        "    # Move model to the appropriate device\n",
        "    device = model.device\n",
        "    model.to(device)\n",
        "\n",
        "    # Tokenize the test data\n",
        "    test_encodings = tokenizer(X_test, padding=True, truncation=True, max_length=128, return_tensors='pt')\n",
        "\n",
        "    # Move tensors to the same device as the model\n",
        "    input_ids = test_encodings['input_ids'].to(device)\n",
        "    attention_mask = test_encodings['attention_mask'].to(device)\n",
        "\n",
        "    # Perform inference\n",
        "    with torch.no_grad():\n",
        "        outputs = model(input_ids=input_ids, attention_mask=attention_mask)\n",
        "\n",
        "    logits = outputs.logits\n",
        "    predictions_before_fine_tuning = torch.argmax(logits, dim=-1).tolist()\n",
        "\n",
        "    # Compute accuracy\n",
        "    accuracy_before = accuracy_score(y_test, predictions_before_fine_tuning)\n",
        "    return accuracy_before\n"
      ],
      "metadata": {
        "id": "jAta8IGNoA4s"
      },
      "execution_count": 19,
      "outputs": []
    },
    {
      "cell_type": "code",
      "source": [
        "accuracy_before = evaluate_model()\n",
        "print(\"Accuracy before fine-tuning:\", accuracy_before)"
      ],
      "metadata": {
        "colab": {
          "base_uri": "https://localhost:8080/"
        },
        "id": "OGOuI5-4p4Zu",
        "outputId": "1e77a561-0180-462e-feda-47dcc5495367"
      },
      "execution_count": 20,
      "outputs": [
        {
          "output_type": "stream",
          "name": "stdout",
          "text": [
            "Accuracy before fine-tuning: 0.2202247191011236\n"
          ]
        }
      ]
    },
    {
      "cell_type": "code",
      "source": [
        "# Fine-tune the model\n",
        "trainer.train()"
      ],
      "metadata": {
        "colab": {
          "base_uri": "https://localhost:8080/",
          "height": 239
        },
        "id": "WlL-s7nEoDJ2",
        "outputId": "b6b0c979-23c3-4657-da58-b0b06f83f7d9"
      },
      "execution_count": 21,
      "outputs": [
        {
          "output_type": "display_data",
          "data": {
            "text/plain": [
              "<IPython.core.display.HTML object>"
            ],
            "text/html": [
              "\n",
              "    <div>\n",
              "      \n",
              "      <progress value='669' max='669' style='width:300px; height:20px; vertical-align: middle;'></progress>\n",
              "      [669/669 01:23, Epoch 3/3]\n",
              "    </div>\n",
              "    <table border=\"1\" class=\"dataframe\">\n",
              "  <thead>\n",
              " <tr style=\"text-align: left;\">\n",
              "      <th>Epoch</th>\n",
              "      <th>Training Loss</th>\n",
              "      <th>Validation Loss</th>\n",
              "      <th>Accuracy</th>\n",
              "    </tr>\n",
              "  </thead>\n",
              "  <tbody>\n",
              "    <tr>\n",
              "      <td>1</td>\n",
              "      <td>No log</td>\n",
              "      <td>0.150596</td>\n",
              "      <td>0.957303</td>\n",
              "    </tr>\n",
              "    <tr>\n",
              "      <td>2</td>\n",
              "      <td>No log</td>\n",
              "      <td>0.196778</td>\n",
              "      <td>0.959551</td>\n",
              "    </tr>\n",
              "    <tr>\n",
              "      <td>3</td>\n",
              "      <td>0.464600</td>\n",
              "      <td>0.120466</td>\n",
              "      <td>0.979775</td>\n",
              "    </tr>\n",
              "  </tbody>\n",
              "</table><p>"
            ]
          },
          "metadata": {}
        },
        {
          "output_type": "execute_result",
          "data": {
            "text/plain": [
              "TrainOutput(global_step=669, training_loss=0.36342497684495867, metrics={'train_runtime': 83.8561, 'train_samples_per_second': 63.68, 'train_steps_per_second': 7.978, 'total_flos': 176853438489600.0, 'train_loss': 0.36342497684495867, 'epoch': 3.0})"
            ]
          },
          "metadata": {},
          "execution_count": 21
        }
      ]
    },
    {
      "cell_type": "code",
      "source": [
        "# Evaluate the model after fine-tuning\n",
        "results = trainer.evaluate()\n",
        "accuracy_after = results['eval_accuracy']\n",
        "print(\"Accuracy after fine-tuning:\", accuracy_after)\n"
      ],
      "metadata": {
        "colab": {
          "base_uri": "https://localhost:8080/",
          "height": 54
        },
        "id": "azrc44cQmK6U",
        "outputId": "7304c89a-7394-4a43-a172-96c2cdb4ab03"
      },
      "execution_count": 22,
      "outputs": [
        {
          "output_type": "display_data",
          "data": {
            "text/plain": [
              "<IPython.core.display.HTML object>"
            ],
            "text/html": [
              "\n",
              "    <div>\n",
              "      \n",
              "      <progress value='56' max='56' style='width:300px; height:20px; vertical-align: middle;'></progress>\n",
              "      [56/56 00:01]\n",
              "    </div>\n",
              "    "
            ]
          },
          "metadata": {}
        },
        {
          "output_type": "stream",
          "name": "stdout",
          "text": [
            "Accuracy after fine-tuning: 0.9797752808988764\n"
          ]
        }
      ]
    },
    {
      "cell_type": "code",
      "source": [
        "# Plotting\n",
        "labels = ['Before Fine-Tuning', 'After Fine-Tuning']\n",
        "accuracies = [accuracy_before, accuracy_after]"
      ],
      "metadata": {
        "id": "DLXzCoUimPB-"
      },
      "execution_count": 23,
      "outputs": []
    },
    {
      "cell_type": "code",
      "source": [
        "plt.figure(figsize=(8, 6))\n",
        "plt.bar(labels, accuracies, color=['blue', 'green'])\n",
        "plt.ylabel('Accuracy')\n",
        "plt.title('Model Accuracy Before and After Fine-Tuning')\n",
        "plt.ylim([0, 1])\n",
        "plt.show()"
      ],
      "metadata": {
        "colab": {
          "base_uri": "https://localhost:8080/",
          "height": 510
        },
        "id": "IlL2siyAmR3V",
        "outputId": "b0120e8e-e987-4c79-e9c0-0168fcbdf3bd"
      },
      "execution_count": 24,
      "outputs": [
        {
          "output_type": "display_data",
          "data": {
            "text/plain": [
              "<Figure size 800x600 with 1 Axes>"
            ],
            "image/png": "[encoded data removed]"
          },
          "metadata": {}
        }
      ]
    },
    {
      "cell_type": "code",
      "source": [
        "import os\n",
        "\n",
        "# Define save paths\n",
        "pretrained_model_save_path = '/content/drive/MyDrive/task/pretrained_model'\n",
        "fine_tuned_model_save_path = '/content/drive/MyDrive/task/fine_tuned_model'\n",
        "tokenizer_save_path = '/content/drive/MyDrive/task/fine_tuned_model/tokenizer'\n",
        "\n",
        "# Save the pre-trained model and tokenizer\n",
        "model.save_pretrained(pretrained_model_save_path)\n",
        "tokenizer.save_pretrained(pretrained_model_save_path)\n",
        "\n",
        "print(f\"Pre-trained model and tokenizer saved to {pretrained_model_save_path}\")\n",
        "\n",
        "# Fine-tune the model\n",
        "trainer.train()\n",
        "\n",
        "# Save the fine-tuned model and tokenizer\n",
        "os.makedirs(fine_tuned_model_save_path, exist_ok=True)\n",
        "model.save_pretrained(fine_tuned_model_save_path)\n",
        "tokenizer.save_pretrained(fine_tuned_model_save_path)\n",
        "\n",
        "print(f\"Fine-tuned model and tokenizer saved to {fine_tuned_model_save_path}\")\n"
      ],
      "metadata": {
        "colab": {
          "base_uri": "https://localhost:8080/",
          "height": 244
        },
        "id": "DPXCpok-qlP8",
        "outputId": "10e4b4f2-a772-45a1-bdd2-5a2b6e4b7bb9"
      },
      "execution_count": 26,
      "outputs": [
        {
          "output_type": "stream",
          "name": "stdout",
          "text": [
            "Pre-trained model and tokenizer saved to /content/drive/MyDrive/task/pretrained_model\n"
          ]
        },
        {
          "output_type": "display_data",
          "data": {
            "text/plain": [
              "<IPython.core.display.HTML object>"
            ],
            "text/html": [
              "\n",
              "    <div>\n",
              "      \n",
              "      <progress value='669' max='669' style='width:300px; height:20px; vertical-align: middle;'></progress>\n",
              "      [669/669 01:31, Epoch 3/3]\n",
              "    </div>\n",
              "    <table border=\"1\" class=\"dataframe\">\n",
              "  <thead>\n",
              " <tr style=\"text-align: left;\">\n",
              "      <th>Epoch</th>\n",
              "      <th>Training Loss</th>\n",
              "      <th>Validation Loss</th>\n",
              "      <th>Accuracy</th>\n",
              "    </tr>\n",
              "  </thead>\n",
              "  <tbody>\n",
              "    <tr>\n",
              "      <td>1</td>\n",
              "      <td>No log</td>\n",
              "      <td>0.075714</td>\n",
              "      <td>0.986517</td>\n",
              "    </tr>\n",
              "    <tr>\n",
              "      <td>2</td>\n",
              "      <td>No log</td>\n",
              "      <td>0.126991</td>\n",
              "      <td>0.973034</td>\n",
              "    </tr>\n",
              "    <tr>\n",
              "      <td>3</td>\n",
              "      <td>0.020700</td>\n",
              "      <td>0.141487</td>\n",
              "      <td>0.977528</td>\n",
              "    </tr>\n",
              "  </tbody>\n",
              "</table><p>"
            ]
          },
          "metadata": {}
        },
        {
          "output_type": "display_data",
          "data": {
            "text/plain": [
              "<IPython.core.display.HTML object>"
            ],
            "text/html": [
              "\n",
              "    <div>\n",
              "      \n",
              "      <progress value='112' max='56' style='width:300px; height:20px; vertical-align: middle;'></progress>\n",
              "      [56/56 04:34]\n",
              "    </div>\n",
              "    "
            ]
          },
          "metadata": {}
        },
        {
          "output_type": "stream",
          "name": "stdout",
          "text": [
            "Fine-tuned model and tokenizer saved to /content/drive/MyDrive/task/fine_tuned_model\n"
          ]
        }
      ]
    },
    {
      "cell_type": "code",
      "source": [],
      "metadata": {
        "id": "4TEhzHUirM8o"
      },
      "execution_count": null,
      "outputs": []
    }
  ]
}